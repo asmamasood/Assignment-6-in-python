{
  "nbformat": 4,
  "nbformat_minor": 0,
  "metadata": {
    "colab": {
      "provenance": [],
      "authorship_tag": "ABX9TyOZfxTLD+cfQI3uAOKWgihb",
      "include_colab_link": true
    },
    "kernelspec": {
      "name": "python3",
      "display_name": "Python 3"
    },
    "language_info": {
      "name": "python"
    }
  },
  "cells": [
    {
      "cell_type": "markdown",
      "metadata": {
        "id": "view-in-github",
        "colab_type": "text"
      },
      "source": [
        "<a href=\"https://colab.research.google.com/github/asmamasood/Assignment-6-in-python/blob/main/Traditional_oops.ipynb\" target=\"_parent\"><img src=\"https://colab.research.google.com/assets/colab-badge.svg\" alt=\"Open In Colab\"/></a>"
      ]
    },
    {
      "cell_type": "markdown",
      "source": [
        "1. Using self\n",
        "\n",
        "Assignment:\n",
        "Create a class Student with attributes name and marks. Use the self keyword to initialize these values via a constructor. Add a method display() that prints student details."
      ],
      "metadata": {
        "id": "jIJ_YfIJ8wFt"
      }
    },
    {
      "cell_type": "code",
      "source": [
        "class Student:\n",
        "    def __init__(self, name, marks):\n",
        "       self.name = name\n",
        "       self.marks = marks\n",
        "\n",
        "    def display(self):\n",
        "       print(\"Student Name:\", self.name)\n",
        "       print(\"Marks:\", self.marks)\n",
        "\n",
        "student1 = Student(\"Asma Masood\",98)\n",
        "student1.display()"
      ],
      "metadata": {
        "id": "FQ5nyu0U9drp"
      },
      "execution_count": null,
      "outputs": []
    },
    {
      "cell_type": "markdown",
      "source": [
        "2. Using cls\n",
        "\n",
        "Assignment:\n",
        "Create a class Counter that keeps track of how many objects have been created. Use a class variable and a class method with cls to manage and display the count.\n",
        "\n"
      ],
      "metadata": {
        "id": "hYLwq_Jx_jap"
      }
    },
    {
      "cell_type": "code",
      "source": [
        "class Counter:\n",
        "    count = 0  # Class variable to track number of objects\n",
        "\n",
        "    def __init__(self):\n",
        "        Counter.count += 1  # Increment count when an object is created\n",
        "\n",
        "    @classmethod\n",
        "    def display_count(cls):\n",
        "        print(\"Total objects created:\", cls.count)\n",
        "\n",
        "# Example usage\n",
        "c1 = Counter()\n",
        "c2 = Counter()\n",
        "c3 = Counter()\n",
        "\n",
        "Counter.display_count()\n"
      ],
      "metadata": {
        "id": "KRgcaOhi_mfu"
      },
      "execution_count": null,
      "outputs": []
    },
    {
      "cell_type": "markdown",
      "source": [
        "3. Public Variables and Methods\n",
        "\n",
        "Assignment:\n",
        "Create a class Car with a public variable brand and a public method start(). Instantiate the class and access both from outside the class."
      ],
      "metadata": {
        "id": "JpYR6aGpG0XE"
      }
    },
    {
      "cell_type": "code",
      "source": [
        "class Car:\n",
        "    def __init__(self, brand):\n",
        "        self.brand = brand  # Public variable\n",
        "\n",
        "    def start(self):  # Public method\n",
        "        print(f\"{self.brand} car is starting...\")\n",
        "\n",
        "# Instantiate the class\n",
        "my_car = Car(\"Toyota\")\n",
        "\n",
        "# Access public variable\n",
        "print(\"Car Brand:\", my_car.brand)\n",
        "\n",
        "# Access public method\n",
        "my_car.start()\n"
      ],
      "metadata": {
        "id": "HTWQxXHZG9zd"
      },
      "execution_count": null,
      "outputs": []
    },
    {
      "cell_type": "markdown",
      "source": [
        "4. Class Variables and Class Methods\n",
        "\n",
        "Assignment:\n",
        "Create a class Bank with a class variable bank_name. Add a class method change_bank_name(cls, name) that allows changing the bank name. Show that it affects all instances."
      ],
      "metadata": {
        "id": "UszeEL-9JZu0"
      }
    },
    {
      "cell_type": "code",
      "source": [
        "class Bank:\n",
        "    bank_name = \"Barka Bank\"  # Class variable\n",
        "\n",
        "    def __init__(self, account_holder):\n",
        "        self.account_holder = account_holder\n",
        "\n",
        "    @classmethod\n",
        "    def change_bank_name(cls, name):\n",
        "        cls.bank_name = name  # Modify the class variable using cls\n",
        "\n",
        "    def display(self):\n",
        "        print(f\"Account Holder: {self.account_holder}, Bank: {Bank.bank_name}\")\n",
        "\n",
        "# Create instances\n",
        "acc1 = Bank(\"Asma\")\n",
        "acc2 = Bank(\"Masood\")\n",
        "\n",
        "# Display initial bank name\n",
        "acc1.display()\n",
        "acc2.display()\n",
        "\n",
        "# Change bank name using class method\n",
        "Bank.change_bank_name(\"Future Finance Bank\")\n",
        "\n",
        "# Display updated bank name\n",
        "acc1.display()\n",
        "acc2.display()\n"
      ],
      "metadata": {
        "id": "uRvBLobZJslx"
      },
      "execution_count": null,
      "outputs": []
    },
    {
      "cell_type": "markdown",
      "source": [
        "5. Static Variables and Static Methods\n",
        "\n",
        "Assignment:\n",
        "Create a class MathUtils with a static method add(a, b) that returns the sum. No class or instance variables should be used."
      ],
      "metadata": {
        "id": "ocEAZV8YgPyq"
      }
    },
    {
      "cell_type": "code",
      "source": [
        "class MathUtils:\n",
        "    @staticmethod\n",
        "    def add(a, b):\n",
        "        return a + b\n",
        "\n",
        "# OOP-style usage (even though object creation isn't necessary for static methods)\n",
        "math_util = MathUtils()  # Create an object (not required, but for OOP style)\n",
        "result = math_util.add(7, 3)\n",
        "print(\"Sum:\", result)\n",
        "\n",
        "# Recommended direct usage of static method via class (no object needed)\n",
        "print(\"Sum (direct call):\", MathUtils.add(15, 5))\n"
      ],
      "metadata": {
        "id": "UIKOrEeqgSR5"
      },
      "execution_count": null,
      "outputs": []
    },
    {
      "cell_type": "markdown",
      "source": [
        "6. Constructors and Destructors\n",
        "\n",
        "Assignment:\n",
        "Create a class Logger that prints a message when an object is created (constructor) and another message when it is destroyed (destructor)."
      ],
      "metadata": {
        "id": "dL1mBMGYgp6E"
      }
    },
    {
      "cell_type": "code",
      "source": [
        "class Logger:\n",
        "    def __init__(self):\n",
        "        print(\"Logger initialized: Object created.\")\n",
        "\n",
        "    def __del__(self):\n",
        "        print(\"Logger terminated: Object destroyed.\")\n",
        "\n",
        "# Create and destroy the object\n",
        "logger1 = Logger()\n",
        "\n",
        "# You can manually delete the object to trigger the destructor\n",
        "del logger1\n",
        "\n",
        "# Or let it be destroyed automatically at the end of the program\n"
      ],
      "metadata": {
        "id": "y15dmTjLgsIF"
      },
      "execution_count": null,
      "outputs": []
    },
    {
      "cell_type": "markdown",
      "source": [
        "7. Access Modifiers: Public, Private, and Protected\n",
        "\n",
        "Assignment:\n",
        "Create a class Employee with:\n",
        "\n",
        "a public variable name,\n",
        "\n",
        "a protected variable _salary, and\n",
        "\n",
        "a private variable __ssn.\n",
        "\n",
        "Try accessing all three variables from an object of the class and document what happens."
      ],
      "metadata": {
        "id": "a9xWiXovhJHx"
      }
    },
    {
      "cell_type": "code",
      "source": [
        "class Employee:\n",
        "    def __init__(self, name, salary, ssn):\n",
        "        self.name = name          # Public\n",
        "        self._salary = salary     # Protected (by convention)\n",
        "        self.__ssn = ssn          # Private (name mangled)\n",
        "\n",
        "    def display_info(self):\n",
        "        print(\"Name:\", self.name)\n",
        "        print(\"Salary:\", self._salary)\n",
        "        print(\"SSN (private):\", self.__ssn)\n",
        "\n",
        "\n",
        "# Create an object of Employee\n",
        "emp = Employee(\"Asma\", 50000, \"123-45-6789\")\n",
        "\n",
        "# Accessing public variable\n",
        "print(\"Public Access - Name:\", emp.name)\n",
        "\n",
        "# Accessing protected variable (possible, but not recommended outside the class)\n",
        "print(\"Protected Access - Salary:\", emp._salary)\n",
        "\n",
        "# Accessing private variable directly (This will raise an AttributeError)\n",
        "try:\n",
        "    print(\"Private Access - SSN:\", emp.__ssn)\n",
        "except AttributeError as e:\n",
        "    print(\"Private Access Error:\", e)\n",
        "\n",
        "# Accessing private variable via name mangling (not recommended, but possible)\n",
        "print(\"Accessing private via name mangling:\", emp._Employee__ssn)\n"
      ],
      "metadata": {
        "id": "Uv6oY-2fhNmO"
      },
      "execution_count": null,
      "outputs": []
    },
    {
      "cell_type": "markdown",
      "source": [
        "8. The super() Function\n",
        "\n",
        "Assignment:\n",
        "Create a class Person with a constructor that sets the name. Inherit a class Teacher from it, add a subject field, and use super() to call the base class constructor."
      ],
      "metadata": {
        "id": "t4GotexIiEG4"
      }
    },
    {
      "cell_type": "code",
      "source": [
        "class Person:\n",
        "    def __init__(self, name):\n",
        "        self.name = name\n",
        "        print(f\"Person Constructor: Name set to {self.name}\")\n",
        "\n",
        "class Teacher(Person):\n",
        "    def __init__(self, name, subject):\n",
        "        super().__init__(name)  # Call the base class constructor\n",
        "        self.subject = subject\n",
        "        print(f\"Teacher Constructor: Subject set to {self.subject}\")\n",
        "\n",
        "    def display(self):\n",
        "        print(f\"Name: {self.name}, Subject: {self.subject}\")\n",
        "\n",
        "# Create a Teacher object\n",
        "teacher1 = Teacher(\"Asma\", \"Mathematics\")\n",
        "teacher1.display()\n"
      ],
      "metadata": {
        "id": "0_TNb2f7ibIf"
      },
      "execution_count": null,
      "outputs": []
    },
    {
      "cell_type": "markdown",
      "source": [
        "9. Abstract Classes and Methods\n",
        "\n",
        "Assignment:\n",
        "Use the abc module to create an abstract class Shape with an abstract method area(). Inherit a class Rectangle that implements area()."
      ],
      "metadata": {
        "id": "WIuJyeIui_Lx"
      }
    },
    {
      "cell_type": "code",
      "source": [
        "from abc import ABC, abstractmethod\n",
        "\n",
        "# Abstract base class\n",
        "class Shape(ABC):\n",
        "    @abstractmethod\n",
        "    def area(self):\n",
        "        pass  # Abstract method (must be overridden in subclasses)\n",
        "\n",
        "# Subclass implementing the abstract method\n",
        "class Rectangle(Shape):\n",
        "    def __init__(self, length, width):\n",
        "        self.length = length\n",
        "        self.width = width\n",
        "\n",
        "    def area(self):\n",
        "        return self.length * self.width\n",
        "\n",
        "# Create an object of Rectangle\n",
        "rect = Rectangle(5, 3)\n",
        "print(\"Area of Rectangle:\", rect.area())\n"
      ],
      "metadata": {
        "id": "nbK5gyxHjBzT"
      },
      "execution_count": null,
      "outputs": []
    },
    {
      "cell_type": "markdown",
      "source": [
        "10. Instance Methods\n",
        "\n",
        "Assignment:\n",
        "Create a class Dog with instance variables name and breed. Add an instance method bark() that prints a message including the dog's name.\n",
        "\n"
      ],
      "metadata": {
        "id": "T5x98JDgjS9f"
      }
    },
    {
      "cell_type": "code",
      "source": [
        "class Dog:\n",
        "    def __init__(self, name, breed):\n",
        "        self.name = name      # Instance variable\n",
        "        self.breed = breed    # Instance variable\n",
        "\n",
        "    def bark(self):\n",
        "        print(f\"{self.name} the {self.breed} says: Woof woof!\")\n",
        "\n",
        "# Create Dog objects\n",
        "dog1 = Dog(\"Buddy\", \"Golden Retriever\")\n",
        "dog2 = Dog(\"Lucy\", \"Beagle\")\n",
        "\n",
        "# Call the instance method\n",
        "dog1.bark()\n",
        "dog2.bark()\n"
      ],
      "metadata": {
        "id": "EZfSaP3NjVDl"
      },
      "execution_count": null,
      "outputs": []
    },
    {
      "cell_type": "markdown",
      "source": [
        "11. Class Methods\n",
        "\n",
        "Assignment:\n",
        "Create a class Book with a class variable total_books. Add a class method increment_book_count() to increase the count when a new book is added."
      ],
      "metadata": {
        "id": "YAIjcu_kjl1-"
      }
    },
    {
      "cell_type": "code",
      "source": [
        "class Book:\n",
        "    total_books = 0  # Class variable shared by all instances\n",
        "\n",
        "    def __init__(self, title):\n",
        "        self.title = title\n",
        "        Book.increment_book_count()  # Call class method when a book is added\n",
        "\n",
        "    @classmethod\n",
        "    def increment_book_count(cls):\n",
        "        cls.total_books += 1\n",
        "\n",
        "    @classmethod\n",
        "    def display_total_books(cls):\n",
        "        print(\"Total Books:\", cls.total_books)\n",
        "\n",
        "# Create some Book objects\n",
        "book1 = Book(\"Python Basics\")\n",
        "book2 = Book(\"Data Science 101\")\n",
        "book3 = Book(\"Machine Learning\")\n",
        "\n",
        "# Display total books using class method\n",
        "Book.display_total_books()\n"
      ],
      "metadata": {
        "id": "gSSfO5vxjwAq"
      },
      "execution_count": null,
      "outputs": []
    },
    {
      "cell_type": "markdown",
      "source": [
        "12. Static Methods\n",
        "\n",
        "Assignment:\n",
        "Create a class TemperatureConverter with a static method celsius_to_fahrenheit(c) that returns the Fahrenheit value."
      ],
      "metadata": {
        "id": "d0hdktCUlhNn"
      }
    },
    {
      "cell_type": "code",
      "source": [
        "class TemperatureConverter:\n",
        "    @staticmethod\n",
        "    def celsius_to_fahrenheit(c):\n",
        "        return (c * 9/5) + 32\n",
        "\n",
        "# Example usage\n",
        "temp_c = 25\n",
        "temp_f = TemperatureConverter.celsius_to_fahrenheit(temp_c)\n",
        "print(f\"{temp_c}°C is equal to {temp_f}°F\")\n"
      ],
      "metadata": {
        "id": "w54t1Wb6ljME"
      },
      "execution_count": null,
      "outputs": []
    },
    {
      "cell_type": "markdown",
      "source": [
        "13. Composition\n",
        "\n",
        "Assignment:\n",
        "Create a class Engine and a class Car. Use composition by passing an Engine object to the Car class during initialization. Access a method of the Engine class via the Car class."
      ],
      "metadata": {
        "id": "l2dIjdEWmCZH"
      }
    },
    {
      "cell_type": "code",
      "source": [
        "# Engine class\n",
        "class Engine:\n",
        "    def start(self):\n",
        "        print(\"Engine has started.\")\n",
        "\n",
        "# Car class using composition\n",
        "class Car:\n",
        "    def __init__(self, brand, engine):\n",
        "        self.brand = brand\n",
        "        self.engine = engine  # Composition: Car \"has-a\" Engine\n",
        "\n",
        "    def start_car(self):\n",
        "        print(f\"{self.brand} car is starting...\")\n",
        "        self.engine.start()  # Accessing Engine's method via Car\n",
        "\n",
        "# Create Engine object\n",
        "engine1 = Engine()\n",
        "\n",
        "# Pass Engine object to Car\n",
        "car1 = Car(\"Toyota\", engine1)\n",
        "\n",
        "# Start the car\n",
        "car1.start_car()\n"
      ],
      "metadata": {
        "id": "0HnRBBplmAmj"
      },
      "execution_count": null,
      "outputs": []
    },
    {
      "cell_type": "markdown",
      "source": [
        "14. Aggregation\n",
        "\n",
        "Assignment:\n",
        "Create a class Department and a class Employee. Use aggregation by having a Department object store a reference to an Employee object that exists independently of it."
      ],
      "metadata": {
        "id": "PuKzdjv2mUWS"
      }
    },
    {
      "cell_type": "code",
      "source": [
        "class Employee:\n",
        "    def __init__(self, name, position):\n",
        "        self.name = name\n",
        "        self.position = position\n",
        "\n",
        "    def display_employee(self):\n",
        "        print(f\"Employee: {self.name}, Position: {self.position}\")\n",
        "\n",
        "class Department:\n",
        "    def __init__(self, dept_name, employee):\n",
        "        self.dept_name = dept_name\n",
        "        self.employee = employee  # Aggregation: Department *has* a reference to Employee\n",
        "\n",
        "    def display_department(self):\n",
        "        print(f\"Department: {self.dept_name}\")\n",
        "        self.employee.display_employee()\n",
        "\n",
        "# Create Employee object independently\n",
        "emp1 = Employee(\"Asma Masood\", \"Developer\")\n",
        "\n",
        "# Pass Employee object to Department\n",
        "dept = Department(\"IT\", emp1)\n",
        "\n",
        "# Display info\n",
        "dept.display_department()\n",
        "\n",
        "# Employee object still exists independently\n",
        "print(f\"Accessing Employee directly: {emp1.name}, {emp1.position}\")\n"
      ],
      "metadata": {
        "id": "0T_eJ2sQmWgA"
      },
      "execution_count": null,
      "outputs": []
    },
    {
      "cell_type": "markdown",
      "source": [
        "15. Method Resolution Order (MRO) and Diamond Inheritance\n",
        "\n",
        "Assignment:\n",
        "Create four classes:\n",
        "\n",
        "A with a method show(),\n",
        "\n",
        "B and C that inherit from A and override show(),\n",
        "\n",
        "D that inherits from both B and C.\n",
        "\n",
        "Create an object of D and call show() to observe MRO."
      ],
      "metadata": {
        "id": "Zwo38ruXnCvn"
      }
    },
    {
      "cell_type": "code",
      "source": [
        "class A:\n",
        "    def show(self):\n",
        "        print(\"Method from class A\")\n",
        "\n",
        "class B(A):\n",
        "    def show(self):\n",
        "        print(\"Method from class B\")\n",
        "\n",
        "class C(A):\n",
        "    def show(self):\n",
        "        print(\"Method from class C\")\n",
        "\n",
        "class D(B, C):\n",
        "    pass  # No override, relies on MRO to decide which show() to use\n",
        "\n",
        "# Create object of D\n",
        "d = D()\n",
        "\n",
        "# Call show() method\n",
        "d.show()\n",
        "\n",
        "# Display the Method Resolution Order\n",
        "print(\"MRO of class D:\", [cls.__name__ for cls in D.__mro__])\n"
      ],
      "metadata": {
        "id": "B20zeMZVm9Pb"
      },
      "execution_count": null,
      "outputs": []
    },
    {
      "cell_type": "markdown",
      "source": [
        "16. Function Decorators\n",
        "\n",
        "Assignment:\n",
        "Write a decorator function log_function_call that prints \"Function is being called\" before a function executes. Apply it to a function say_hello()."
      ],
      "metadata": {
        "id": "ptMkbDhunbhK"
      }
    },
    {
      "cell_type": "code",
      "source": [
        "# Decorator function\n",
        "def log_function_call(func):\n",
        "    def wrapper(*args, **kwargs):\n",
        "        print(\"Function is being called\")\n",
        "        return func(*args, **kwargs)\n",
        "    return wrapper\n",
        "\n",
        "# Apply decorator\n",
        "@log_function_call\n",
        "def say_hello():\n",
        "    print(\"Hello!\")\n",
        "\n",
        "# Call the decorated function\n",
        "say_hello()\n"
      ],
      "metadata": {
        "id": "ge-whUT-nd0q"
      },
      "execution_count": null,
      "outputs": []
    },
    {
      "cell_type": "markdown",
      "source": [
        "17. Class Decorators\n",
        "\n",
        "Assignment:\n",
        "Create a class decorator add_greeting that modifies a class to add a greet() method returning \"Hello from Decorator!\". Apply it to a class Person."
      ],
      "metadata": {
        "id": "iZ5FK9Nbntr9"
      }
    },
    {
      "cell_type": "code",
      "source": [
        "# Class decorator function\n",
        "def add_greeting(cls):\n",
        "    def greet(self):\n",
        "        return \"Hello from Decorator!\"\n",
        "    cls.greet = greet  # Add greet method to the class\n",
        "    return cls\n",
        "\n",
        "# Apply decorator to Person class\n",
        "@add_greeting\n",
        "class Person:\n",
        "    def __init__(self, name):\n",
        "        self.name = name\n",
        "\n",
        "# Create an object of Person\n",
        "p = Person(\"Asma\")\n",
        "\n",
        "# Call the added greet method\n",
        "print(p.greet())\n"
      ],
      "metadata": {
        "id": "VKOumgA1nx6v"
      },
      "execution_count": null,
      "outputs": []
    },
    {
      "cell_type": "markdown",
      "source": [
        "18. Property Decorators: @property, @setter, and @deleter\n",
        "\n",
        "Assignment:\n",
        "Create a class Product with a private attribute _price. Use @property to get the price, @price.setter to update it, and @price.deleter to delete it."
      ],
      "metadata": {
        "id": "haDcrIpRoCMY"
      }
    },
    {
      "cell_type": "code",
      "source": [
        "class Product:\n",
        "    def __init__(self, price):\n",
        "        self._price = price  # Private attribute\n",
        "\n",
        "    @property\n",
        "    def price(self):\n",
        "        \"\"\"Getter method to access _price\"\"\"\n",
        "        return self._price\n",
        "\n",
        "    @price.setter\n",
        "    def price(self, value):\n",
        "        \"\"\"Setter method to update _price with validation\"\"\"\n",
        "        if value < 0:\n",
        "            raise ValueError(\"Price cannot be negative!\")\n",
        "        self._price = value\n",
        "\n",
        "    @price.deleter\n",
        "    def price(self):\n",
        "        \"\"\"Deleter method to delete _price\"\"\"\n",
        "        print(\"Deleting price...\")\n",
        "        del self._price\n",
        "\n",
        "# Usage example\n",
        "product = Product(100)\n",
        "print(\"Initial price:\", product.price)  # Access price\n",
        "\n",
        "product.price = 150                      # Update price\n",
        "print(\"Updated price:\", product.price)\n",
        "\n",
        "try:\n",
        "    product.price = -50                  # Try invalid price\n",
        "except ValueError as e:\n",
        "    print(\"Error:\", e)\n",
        "\n",
        "del product.price                        # Delete price\n",
        "\n",
        "# Uncommenting the next line will raise AttributeError since _price is deleted\n",
        "# print(product.price)\n"
      ],
      "metadata": {
        "id": "Eod5BkxboP-E"
      },
      "execution_count": null,
      "outputs": []
    },
    {
      "cell_type": "markdown",
      "source": [
        "19. callable() and __call__()\n",
        "\n",
        "Assignment:\n",
        "Create a class Multiplier with an __init__() to set a factor. Define a __call__() method that multiplies an input by the factor. Test it with callable() and by calling the object like a function."
      ],
      "metadata": {
        "id": "GUjgBjyIodCM"
      }
    },
    {
      "cell_type": "code",
      "source": [
        "class Multiplier:\n",
        "    def __init__(self, factor):\n",
        "        self.factor = factor\n",
        "\n",
        "    def __call__(self, number):\n",
        "        return number * self.factor\n",
        "\n",
        "# Create an object with factor 5\n",
        "mul = Multiplier(5)\n",
        "\n",
        "# Check if object is callable\n",
        "print(\"Is mul callable?\", callable(mul))  # True\n",
        "\n",
        "# Call the object like a function\n",
        "result = mul(10)\n",
        "print(\"Result of mul(10):\", result)\n"
      ],
      "metadata": {
        "id": "C46xUOjXoggi"
      },
      "execution_count": null,
      "outputs": []
    },
    {
      "cell_type": "markdown",
      "source": [
        "20. Creating a Custom Exception\n",
        "\n",
        "Assignment:\n",
        "Create a custom exception InvalidAgeError. Write a function check_age(age) that raises this exception if age < 18. Handle it with try...except."
      ],
      "metadata": {
        "id": "hvKgjho8ozsa"
      }
    },
    {
      "cell_type": "code",
      "source": [
        "# Custom exception class\n",
        "class InvalidAgeError(Exception):\n",
        "    pass\n",
        "\n",
        "# Function to check age\n",
        "def check_age(age):\n",
        "    if age < 18:\n",
        "        raise InvalidAgeError(\"Age must be at least 18.\")\n",
        "    else:\n",
        "        print(\"Age is valid.\")\n",
        "\n",
        "# Test with try-except\n",
        "try:\n",
        "    check_age(16)\n",
        "except InvalidAgeError as e:\n",
        "    print(f\"Caught an error: {e}\")\n",
        "\n",
        "try:\n",
        "    check_age(20)\n",
        "except InvalidAgeError as e:\n",
        "    print(f\"Caught an error: {e}\")\n"
      ],
      "metadata": {
        "id": "EdCEV_YUo7C8"
      },
      "execution_count": null,
      "outputs": []
    },
    {
      "cell_type": "markdown",
      "source": [
        "21. Make a Custom Class Iterable\n",
        "\n",
        "Assignment:\n",
        "Create a class Countdown that takes a start number. Implement __iter__() and __next__() to make the object iterable in a for-loop, counting down to 0.\n",
        "\n",
        "Once you are done submit this form ASAP:"
      ],
      "metadata": {
        "id": "HqcKyAjwp9yz"
      }
    },
    {
      "cell_type": "code",
      "source": [
        "class Countdown:\n",
        "    def __init__(self, start):\n",
        "        self.current = start\n",
        "\n",
        "    def __iter__(self):\n",
        "        return self  # The object itself is the iterator\n",
        "\n",
        "    def __next__(self):\n",
        "        if self.current < 0:\n",
        "            raise StopIteration  # End of iteration\n",
        "        value = self.current\n",
        "        self.current -= 1\n",
        "        return value\n",
        "\n",
        "# Example usage\n",
        "for number in Countdown(5):\n",
        "    print(number)\n"
      ],
      "metadata": {
        "id": "uTK758N_p5rf"
      },
      "execution_count": null,
      "outputs": []
    }
  ]
}